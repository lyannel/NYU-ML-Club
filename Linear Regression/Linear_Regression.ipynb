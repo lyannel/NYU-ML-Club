{
  "nbformat": 4,
  "nbformat_minor": 0,
  "metadata": {
    "colab": {
      "name": "Linear Regression.ipynb",
      "provenance": [],
      "collapsed_sections": []
    },
    "kernelspec": {
      "name": "python3",
      "display_name": "Python 3"
    }
  },
  "cells": [
    {
      "cell_type": "markdown",
      "metadata": {
        "id": "s5Dc9CMoo8aA",
        "colab_type": "text"
      },
      "source": [
        "# Welcome to the Machine Learning's first workshop on Linear Regression!\n",
        "#### In this example, we will be going over \"Multiple/Mulvariate linear regression\" which involves multiple variables and is similar to simple linear regression but differs in how we will evaluate it. \n",
        "#### We will be using the red wine quality dataset which contains variables of the Portuguese \"Vinho Verde\" wine.\n",
        "#### To get started, please download this dataset [here](https://drive.google.com/file/d/195gkZ5cTZL11L308MHc7EyBbAoiB4xqf/view?usp=sharing).\n",
        "#### If the syntax of the libraries are not clear, please go ahead and check their documentation to see what particular syntax means. You can access them here or googling the particular functions that you are not sure of.\n",
        "[sklearn](https://drive.google.com/file/d/195gkZ5cTZL11L308MHc7EyBbAoiB4xqf/view?usp=sharing), [pandas](https://pandas.pydata.org/pandas-docs/stable/reference/api/pandas.DataFrame.html) , [matplotlib](https://matplotlib.org/3.1.1/users/index.html) , [seaborn](https://seaborn.pydata.org/), [numpy](https://numpy.org/doc/)\n",
        "\n",
        "\n"
      ]
    },
    {
      "cell_type": "code",
      "metadata": {
        "id": "32ZKgzosBhru",
        "colab_type": "code",
        "colab": {}
      },
      "source": [
        "import pandas as pd\n",
        "import numpy as np\n",
        "import matplotlib.pyplot as plt\n",
        "import seaborn as seabornInstance\n",
        "from sklearn.model_selection import train_test_split\n",
        "from sklearn.linear_model import LinearRegression\n",
        "from sklearn import metrics\n",
        "from google.colab import files\n",
        "import io\n",
        "%matplotlib inline"
      ],
      "execution_count": 0,
      "outputs": []
    },
    {
      "cell_type": "markdown",
      "metadata": {
        "id": "c6Lkshjeox7p",
        "colab_type": "text"
      },
      "source": [
        "# Loading and Cleaning Our Data\n",
        "\n",
        "We will now upload the wine quality dataset and use the pandas library to store the data in a dataframe\n",
        "\n",
        "This is only one way of uploading and reading in your data. Another way that is also commonly used is using that same pandas library method but passing in a url as the parameter that contains the dataset"
      ]
    },
    {
      "cell_type": "code",
      "metadata": {
        "id": "bQNHodODaCG5",
        "colab_type": "code",
        "outputId": "9236bb64-ec77-4040-fdb7-336ba9223f58",
        "colab": {
          "resources": {
            "http://localhost:8080/nbextensions/google.colab/files.js": {
              "data": "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",
              "ok": true,
              "headers": [
                [
                  "content-type",
                  "application/javascript"
                ]
              ],
              "status": 200,
              "status_text": ""
            }
          },
          "base_uri": "https://localhost:8080/",
          "height": 75
        }
      },
      "source": [
        "uploaded = files.upload()"
      ],
      "execution_count": 0,
      "outputs": [
        {
          "output_type": "display_data",
          "data": {
            "text/html": [
              "\n",
              "     <input type=\"file\" id=\"files-c6ba331a-0248-47ec-b34a-4caa9d87bc45\" name=\"files[]\" multiple disabled />\n",
              "     <output id=\"result-c6ba331a-0248-47ec-b34a-4caa9d87bc45\">\n",
              "      Upload widget is only available when the cell has been executed in the\n",
              "      current browser session. Please rerun this cell to enable.\n",
              "      </output>\n",
              "      <script src=\"/nbextensions/google.colab/files.js\"></script> "
            ],
            "text/plain": [
              "<IPython.core.display.HTML object>"
            ]
          },
          "metadata": {
            "tags": []
          }
        },
        {
          "output_type": "stream",
          "text": [
            "Saving winequality.csv to winequality.csv\n"
          ],
          "name": "stdout"
        }
      ]
    },
    {
      "cell_type": "code",
      "metadata": {
        "id": "46S-q2eavEHB",
        "colab_type": "code",
        "outputId": "cb33c4e3-9769-4120-e2bc-4ef0b02730b5",
        "colab": {
          "base_uri": "https://localhost:8080/",
          "height": 219
        }
      },
      "source": [
        "# Store the data in dataframe, a 2-d data structure from the Pandas library \n",
        "df = pd.read_csv(io.BytesIO(uploaded['winequality.csv']))\n",
        "# Prints out the dimensions of our data\n",
        "print(df.shape)\n",
        "# Check to see if your object has the right data - Returns the specified n number of rows\n",
        "df.head(5) "
      ],
      "execution_count": 0,
      "outputs": [
        {
          "output_type": "stream",
          "text": [
            "(1599, 12)\n"
          ],
          "name": "stdout"
        },
        {
          "output_type": "execute_result",
          "data": {
            "text/html": [
              "<div>\n",
              "<style scoped>\n",
              "    .dataframe tbody tr th:only-of-type {\n",
              "        vertical-align: middle;\n",
              "    }\n",
              "\n",
              "    .dataframe tbody tr th {\n",
              "        vertical-align: top;\n",
              "    }\n",
              "\n",
              "    .dataframe thead th {\n",
              "        text-align: right;\n",
              "    }\n",
              "</style>\n",
              "<table border=\"1\" class=\"dataframe\">\n",
              "  <thead>\n",
              "    <tr style=\"text-align: right;\">\n",
              "      <th></th>\n",
              "      <th>fixed acidity</th>\n",
              "      <th>volatile acidity</th>\n",
              "      <th>citric acid</th>\n",
              "      <th>residual sugar</th>\n",
              "      <th>chlorides</th>\n",
              "      <th>free sulfur dioxide</th>\n",
              "      <th>total sulfur dioxide</th>\n",
              "      <th>density</th>\n",
              "      <th>pH</th>\n",
              "      <th>sulphates</th>\n",
              "      <th>alcohol</th>\n",
              "      <th>quality</th>\n",
              "    </tr>\n",
              "  </thead>\n",
              "  <tbody>\n",
              "    <tr>\n",
              "      <th>0</th>\n",
              "      <td>7.4</td>\n",
              "      <td>0.70</td>\n",
              "      <td>0.00</td>\n",
              "      <td>1.9</td>\n",
              "      <td>0.076</td>\n",
              "      <td>11.0</td>\n",
              "      <td>34.0</td>\n",
              "      <td>0.9978</td>\n",
              "      <td>3.51</td>\n",
              "      <td>0.56</td>\n",
              "      <td>9.4</td>\n",
              "      <td>5</td>\n",
              "    </tr>\n",
              "    <tr>\n",
              "      <th>1</th>\n",
              "      <td>7.8</td>\n",
              "      <td>0.88</td>\n",
              "      <td>0.00</td>\n",
              "      <td>2.6</td>\n",
              "      <td>0.098</td>\n",
              "      <td>25.0</td>\n",
              "      <td>67.0</td>\n",
              "      <td>0.9968</td>\n",
              "      <td>3.20</td>\n",
              "      <td>0.68</td>\n",
              "      <td>9.8</td>\n",
              "      <td>5</td>\n",
              "    </tr>\n",
              "    <tr>\n",
              "      <th>2</th>\n",
              "      <td>7.8</td>\n",
              "      <td>0.76</td>\n",
              "      <td>0.04</td>\n",
              "      <td>2.3</td>\n",
              "      <td>0.092</td>\n",
              "      <td>15.0</td>\n",
              "      <td>54.0</td>\n",
              "      <td>0.9970</td>\n",
              "      <td>3.26</td>\n",
              "      <td>0.65</td>\n",
              "      <td>9.8</td>\n",
              "      <td>5</td>\n",
              "    </tr>\n",
              "    <tr>\n",
              "      <th>3</th>\n",
              "      <td>11.2</td>\n",
              "      <td>0.28</td>\n",
              "      <td>0.56</td>\n",
              "      <td>1.9</td>\n",
              "      <td>0.075</td>\n",
              "      <td>17.0</td>\n",
              "      <td>60.0</td>\n",
              "      <td>0.9980</td>\n",
              "      <td>3.16</td>\n",
              "      <td>0.58</td>\n",
              "      <td>9.8</td>\n",
              "      <td>6</td>\n",
              "    </tr>\n",
              "    <tr>\n",
              "      <th>4</th>\n",
              "      <td>7.4</td>\n",
              "      <td>0.70</td>\n",
              "      <td>0.00</td>\n",
              "      <td>1.9</td>\n",
              "      <td>0.076</td>\n",
              "      <td>11.0</td>\n",
              "      <td>34.0</td>\n",
              "      <td>0.9978</td>\n",
              "      <td>3.51</td>\n",
              "      <td>0.56</td>\n",
              "      <td>9.4</td>\n",
              "      <td>5</td>\n",
              "    </tr>\n",
              "  </tbody>\n",
              "</table>\n",
              "</div>"
            ],
            "text/plain": [
              "   fixed acidity  volatile acidity  citric acid  ...  sulphates  alcohol  quality\n",
              "0            7.4              0.70         0.00  ...       0.56      9.4        5\n",
              "1            7.8              0.88         0.00  ...       0.68      9.8        5\n",
              "2            7.8              0.76         0.04  ...       0.65      9.8        5\n",
              "3           11.2              0.28         0.56  ...       0.58      9.8        6\n",
              "4            7.4              0.70         0.00  ...       0.56      9.4        5\n",
              "\n",
              "[5 rows x 12 columns]"
            ]
          },
          "metadata": {
            "tags": []
          },
          "execution_count": 4
        }
      ]
    },
    {
      "cell_type": "markdown",
      "metadata": {
        "id": "56SsailRx8rx",
        "colab_type": "text"
      },
      "source": [
        "Great! Now that we have our data, let's clean it up a bit. To do so, we will first determine whether or not there are any columns that has the NaN values."
      ]
    },
    {
      "cell_type": "code",
      "metadata": {
        "id": "XlTaegBVyI7I",
        "colab_type": "code",
        "outputId": "78ea2053-d71e-40e9-c9ab-a05747f9e9f7",
        "colab": {
          "base_uri": "https://localhost:8080/",
          "height": 260
        }
      },
      "source": [
        "df.isnull().any"
      ],
      "execution_count": 0,
      "outputs": [
        {
          "output_type": "execute_result",
          "data": {
            "text/plain": [
              "<bound method DataFrame.any of       fixed acidity  volatile acidity  citric acid  ...  sulphates  alcohol  quality\n",
              "0             False             False        False  ...      False    False    False\n",
              "1             False             False        False  ...      False    False    False\n",
              "2             False             False        False  ...      False    False    False\n",
              "3             False             False        False  ...      False    False    False\n",
              "4             False             False        False  ...      False    False    False\n",
              "...             ...               ...          ...  ...        ...      ...      ...\n",
              "1594          False             False        False  ...      False    False    False\n",
              "1595          False             False        False  ...      False    False    False\n",
              "1596          False             False        False  ...      False    False    False\n",
              "1597          False             False        False  ...      False    False    False\n",
              "1598          False             False        False  ...      False    False    False\n",
              "\n",
              "[1599 rows x 12 columns]>"
            ]
          },
          "metadata": {
            "tags": []
          },
          "execution_count": 5
        }
      ]
    },
    {
      "cell_type": "markdown",
      "metadata": {
        "id": "iPHAGbM6yPgo",
        "colab_type": "text"
      },
      "source": [
        "After we execute the previous command, all columns should return False. However, if there are any True values, we will remove them"
      ]
    },
    {
      "cell_type": "code",
      "metadata": {
        "id": "RwhT7zCRyZEK",
        "colab_type": "code",
        "colab": {}
      },
      "source": [
        "df = df.fillna(method='ffill')"
      ],
      "execution_count": 0,
      "outputs": []
    },
    {
      "cell_type": "markdown",
      "metadata": {
        "id": "P8Dt_fyjd21E",
        "colab_type": "text"
      },
      "source": [
        "# Attributes and Labels\n",
        "\n",
        "Nice! Now that we've cleaned up our data, we will now divide the data into two parts: attributes/features and labels. Your features can be thought of as inputs while your labels are outputs. Back to our training dataset, some of the column headers we see in the data are fixed acidity, volatile acidity, etc. and these would be the features. Labels will be the outputs we get from our model as we pass in our features."
      ]
    },
    {
      "cell_type": "code",
      "metadata": {
        "id": "bU_ITrE8hPHa",
        "colab_type": "code",
        "outputId": "213f8e63-ed2c-499a-cf2b-119a8b1a7346",
        "colab": {
          "base_uri": "https://localhost:8080/",
          "height": 468
        }
      },
      "source": [
        "featureNames = ['fixed acidity', 'volatile acidity', 'citric acid', \n",
        "          'residual sugar', 'chlorides', 'free sulfur dioxide',\n",
        "          'total sulfur dioxide', 'density', 'pH', 'sulphates',\n",
        "          'alcohol']\n",
        "#Variable to store our features\n",
        "X = df[featureNames]\n",
        "print(X)\n",
        "#Variable to store our label\n",
        "y = df['quality']\n",
        "print(y)\n"
      ],
      "execution_count": 0,
      "outputs": [
        {
          "output_type": "stream",
          "text": [
            "      fixed acidity  volatile acidity  citric acid  ...    pH  sulphates  alcohol\n",
            "0               7.4             0.700         0.00  ...  3.51       0.56      9.4\n",
            "1               7.8             0.880         0.00  ...  3.20       0.68      9.8\n",
            "2               7.8             0.760         0.04  ...  3.26       0.65      9.8\n",
            "3              11.2             0.280         0.56  ...  3.16       0.58      9.8\n",
            "4               7.4             0.700         0.00  ...  3.51       0.56      9.4\n",
            "...             ...               ...          ...  ...   ...        ...      ...\n",
            "1594            6.2             0.600         0.08  ...  3.45       0.58     10.5\n",
            "1595            5.9             0.550         0.10  ...  3.52       0.76     11.2\n",
            "1596            6.3             0.510         0.13  ...  3.42       0.75     11.0\n",
            "1597            5.9             0.645         0.12  ...  3.57       0.71     10.2\n",
            "1598            6.0             0.310         0.47  ...  3.39       0.66     11.0\n",
            "\n",
            "[1599 rows x 11 columns]\n",
            "0       5\n",
            "1       5\n",
            "2       5\n",
            "3       6\n",
            "4       5\n",
            "       ..\n",
            "1594    5\n",
            "1595    6\n",
            "1596    6\n",
            "1597    5\n",
            "1598    6\n",
            "Name: quality, Length: 1599, dtype: int64\n"
          ],
          "name": "stdout"
        }
      ]
    },
    {
      "cell_type": "markdown",
      "metadata": {
        "id": "Us--GFOaiLrQ",
        "colab_type": "text"
      },
      "source": [
        "Now that we have our data stored, let's check the average value of our label, or the 'quality' column. Visualizing these labels will be helpful to see the actual labels vs when we predict them with our linear regression model."
      ]
    },
    {
      "cell_type": "code",
      "metadata": {
        "id": "ddYwW6BfiUHw",
        "colab_type": "code",
        "outputId": "f88209a3-d301-4300-ca62-3b0fcd82ee2b",
        "colab": {
          "base_uri": "https://localhost:8080/",
          "height": 623
        }
      },
      "source": [
        "plt.figure(figsize=(15,10))\n",
        "plt.tight_layout()\n",
        "seabornInstance.distplot(df['quality'])"
      ],
      "execution_count": 0,
      "outputs": [
        {
          "output_type": "execute_result",
          "data": {
            "text/plain": [
              "<matplotlib.axes._subplots.AxesSubplot at 0x7f0ba1d4aa90>"
            ]
          },
          "metadata": {
            "tags": []
          },
          "execution_count": 8
        },
        {
          "output_type": "display_data",
          "data": {
            "image/png": "[encoded data removed]",
            "text/plain": [
              "<Figure size 1080x720 with 1 Axes>"
            ]
          },
          "metadata": {
            "tags": []
          }
        }
      ]
    },
    {
      "cell_type": "markdown",
      "metadata": {
        "id": "9fe1xcCbj_fu",
        "colab_type": "text"
      },
      "source": [
        "# Training and Testing Data\n",
        "From the plot, we can see that the value of the label is 5 or 6.\n",
        "\n",
        "We will now split 80% of the data to the training set while 20% of the data to the test set. Our training set is the sample of data that will be used to fit/implement the model, while a test set is used to validate the model built from the training set.\n",
        "\n",
        "In other words, we will use X_Train and y_train to build the model. Once we build the model, we will pass in the X_test to the model, which will return us predictions for the X_test data that the model has never seen before. We will compare these predictions to y_test, the actual Ttarget values of X_test."
      ]
    },
    {
      "cell_type": "code",
      "metadata": {
        "id": "nPbwyZSUlfo8",
        "colab_type": "code",
        "outputId": "99c15d5b-c6e3-498e-dd47-8ba9f16f36fd",
        "colab": {
          "base_uri": "https://localhost:8080/",
          "height": 919
        }
      },
      "source": [
        "#X_train is the training data set\n",
        "#y_train is the set of labels for all the data in the training data set\n",
        "#x_test is the test data set\n",
        "#y_test is the set of labels to all the data in x_test\n",
        "X_train, X_test, y_train, y_test = train_test_split(X, y, test_size=0.2, random_state=0)\n",
        "print(\"The training data set is\", X_train)\n",
        "print(\"The labels for the training data set is\", y_train)\n",
        "print(\"The testing data set is:\", X_test)\n",
        "print(\"The labels for the testing data set is\", y_train)\n"
      ],
      "execution_count": 0,
      "outputs": [
        {
          "output_type": "stream",
          "text": [
            "The training data set is       fixed acidity  volatile acidity  citric acid  ...    pH  sulphates  alcohol\n",
            "642             9.9             0.540         0.45  ...  3.39       0.62      9.4\n",
            "679            10.8             0.260         0.45  ...  3.13       0.54      9.6\n",
            "473             9.9             0.350         0.55  ...  3.26       0.79     10.6\n",
            "390             5.6             0.850         0.05  ...  3.56       0.82     12.9\n",
            "1096            6.6             0.725         0.09  ...  3.35       0.49     10.8\n",
            "...             ...               ...          ...  ...   ...        ...      ...\n",
            "763             9.3             0.655         0.26  ...  3.25       0.42      9.6\n",
            "835             7.6             0.665         0.10  ...  3.39       0.51      9.3\n",
            "1216            7.9             0.570         0.31  ...  3.29       0.69      9.5\n",
            "559            13.0             0.470         0.49  ...  3.30       0.68     12.7\n",
            "684             9.8             0.980         0.32  ...  3.25       0.48      9.4\n",
            "\n",
            "[1279 rows x 11 columns]\n",
            "The labels for the training data set is 642     5\n",
            "679     5\n",
            "473     5\n",
            "390     8\n",
            "1096    6\n",
            "       ..\n",
            "763     5\n",
            "835     5\n",
            "1216    6\n",
            "559     6\n",
            "684     5\n",
            "Name: quality, Length: 1279, dtype: int64\n",
            "The testing data set is:       fixed acidity  volatile acidity  citric acid  ...    pH  sulphates  alcohol\n",
            "1109           10.8             0.470         0.43  ...  3.17       0.76     10.8\n",
            "1032            8.1             0.820         0.00  ...  3.36       0.53      9.6\n",
            "1002            9.1             0.290         0.33  ...  3.26       0.84     11.7\n",
            "487            10.2             0.645         0.36  ...  3.17       0.42     10.0\n",
            "979            12.2             0.450         0.49  ...  3.13       0.63     10.4\n",
            "...             ...               ...          ...  ...   ...        ...      ...\n",
            "794            10.1             0.270         0.54  ...  3.17       0.53     12.5\n",
            "813             6.9             0.390         0.24  ...  3.44       0.58     11.4\n",
            "1322            9.1             0.340         0.42  ...  3.18       0.55     11.4\n",
            "704             9.1             0.765         0.04  ...  3.29       0.54      9.7\n",
            "1023            8.2             0.320         0.42  ...  3.27       0.55     12.3\n",
            "\n",
            "[320 rows x 11 columns]\n",
            "The labels for the testing data set is 642     5\n",
            "679     5\n",
            "473     5\n",
            "390     8\n",
            "1096    6\n",
            "       ..\n",
            "763     5\n",
            "835     5\n",
            "1216    6\n",
            "559     6\n",
            "684     5\n",
            "Name: quality, Length: 1279, dtype: int64\n"
          ],
          "name": "stdout"
        }
      ]
    },
    {
      "cell_type": "markdown",
      "metadata": {
        "id": "gN-l8fnMneyg",
        "colab_type": "text"
      },
      "source": [
        "# Training Our Model\n",
        "We use train_test_split to split our arrays of data into random training and test subsets. Now that we've split up our data, let's train our model!\n"
      ]
    },
    {
      "cell_type": "code",
      "metadata": {
        "id": "nAjpwno3nrTl",
        "colab_type": "code",
        "outputId": "0a840b00-898e-4648-9981-250f69b9f846",
        "colab": {
          "base_uri": "https://localhost:8080/",
          "height": 35
        }
      },
      "source": [
        "#initialize the model\n",
        "regressor = LinearRegression()\n",
        "# fit linear model onto data \n",
        "regressor.fit(X_train, y_train)"
      ],
      "execution_count": 0,
      "outputs": [
        {
          "output_type": "execute_result",
          "data": {
            "text/plain": [
              "LinearRegression(copy_X=True, fit_intercept=True, n_jobs=None, normalize=False)"
            ]
          },
          "metadata": {
            "tags": []
          },
          "execution_count": 10
        }
      ]
    },
    {
      "cell_type": "markdown",
      "metadata": {
        "id": "I4NQUKSjoKxg",
        "colab_type": "text"
      },
      "source": [
        "Our end goal here in the case of multivariable linear regression is for our model to be able to find the most optimal coefficients for all the attributes. The following script will show the coefficients our regression model has chosen."
      ]
    },
    {
      "cell_type": "code",
      "metadata": {
        "id": "mcarqtPyofEC",
        "colab_type": "code",
        "outputId": "92124975-aac4-4649-bc8f-c64e66fda8e6",
        "colab": {
          "base_uri": "https://localhost:8080/",
          "height": 386
        }
      },
      "source": [
        "#create dataframe which has oefficients of the model we built as data, columns of X (columns of original data) as rows and \"Coefficient\" string as column\n",
        "coeff_df = pd.DataFrame(regressor.coef_, X.columns, columns=['Coefficient'])\n",
        "coeff_df"
      ],
      "execution_count": 0,
      "outputs": [
        {
          "output_type": "execute_result",
          "data": {
            "text/html": [
              "<div>\n",
              "<style scoped>\n",
              "    .dataframe tbody tr th:only-of-type {\n",
              "        vertical-align: middle;\n",
              "    }\n",
              "\n",
              "    .dataframe tbody tr th {\n",
              "        vertical-align: top;\n",
              "    }\n",
              "\n",
              "    .dataframe thead th {\n",
              "        text-align: right;\n",
              "    }\n",
              "</style>\n",
              "<table border=\"1\" class=\"dataframe\">\n",
              "  <thead>\n",
              "    <tr style=\"text-align: right;\">\n",
              "      <th></th>\n",
              "      <th>Coefficient</th>\n",
              "    </tr>\n",
              "  </thead>\n",
              "  <tbody>\n",
              "    <tr>\n",
              "      <th>fixed acidity</th>\n",
              "      <td>0.041284</td>\n",
              "    </tr>\n",
              "    <tr>\n",
              "      <th>volatile acidity</th>\n",
              "      <td>-1.149528</td>\n",
              "    </tr>\n",
              "    <tr>\n",
              "      <th>citric acid</th>\n",
              "      <td>-0.177927</td>\n",
              "    </tr>\n",
              "    <tr>\n",
              "      <th>residual sugar</th>\n",
              "      <td>0.027870</td>\n",
              "    </tr>\n",
              "    <tr>\n",
              "      <th>chlorides</th>\n",
              "      <td>-1.873407</td>\n",
              "    </tr>\n",
              "    <tr>\n",
              "      <th>free sulfur dioxide</th>\n",
              "      <td>0.002684</td>\n",
              "    </tr>\n",
              "    <tr>\n",
              "      <th>total sulfur dioxide</th>\n",
              "      <td>-0.002777</td>\n",
              "    </tr>\n",
              "    <tr>\n",
              "      <th>density</th>\n",
              "      <td>-31.516666</td>\n",
              "    </tr>\n",
              "    <tr>\n",
              "      <th>pH</th>\n",
              "      <td>-0.254486</td>\n",
              "    </tr>\n",
              "    <tr>\n",
              "      <th>sulphates</th>\n",
              "      <td>0.924040</td>\n",
              "    </tr>\n",
              "    <tr>\n",
              "      <th>alcohol</th>\n",
              "      <td>0.267797</td>\n",
              "    </tr>\n",
              "  </tbody>\n",
              "</table>\n",
              "</div>"
            ],
            "text/plain": [
              "                      Coefficient\n",
              "fixed acidity            0.041284\n",
              "volatile acidity        -1.149528\n",
              "citric acid             -0.177927\n",
              "residual sugar           0.027870\n",
              "chlorides               -1.873407\n",
              "free sulfur dioxide      0.002684\n",
              "total sulfur dioxide    -0.002777\n",
              "density                -31.516666\n",
              "pH                      -0.254486\n",
              "sulphates                0.924040\n",
              "alcohol                  0.267797"
            ]
          },
          "metadata": {
            "tags": []
          },
          "execution_count": 11
        }
      ]
    },
    {
      "cell_type": "markdown",
      "metadata": {
        "id": "Rm4VYxPztEi9",
        "colab_type": "text"
      },
      "source": [
        "Looking at our coefficients, we see that the features that have the most effect on the quality of wine are chlorides and density. \n",
        "\n",
        "We will now evaluate predictions using our test data."
      ]
    },
    {
      "cell_type": "code",
      "metadata": {
        "id": "j6Wr1bh5tod4",
        "colab_type": "code",
        "colab": {}
      },
      "source": [
        "y_pred = regressor.predict(X_test)"
      ],
      "execution_count": 0,
      "outputs": []
    },
    {
      "cell_type": "markdown",
      "metadata": {
        "id": "czmUxQCMtvEv",
        "colab_type": "text"
      },
      "source": [
        "After running the code above, let's check the difference between the actual value vs the predicted value as well as plot the comparison."
      ]
    },
    {
      "cell_type": "code",
      "metadata": {
        "id": "x5UdAbaguAM8",
        "colab_type": "code",
        "outputId": "1397dcb1-15f0-414a-fe9f-229e3887b43f",
        "colab": {
          "base_uri": "https://localhost:8080/",
          "height": 949
        }
      },
      "source": [
        "#Check difference between actual value vs predicted\n",
        "df = pd.DataFrame({'Actual': y_test, 'Predicted': y_pred})\n",
        "dfPlot = df.head(25)\n",
        "print(dfPlot)\n",
        "#Plot\n",
        "dfPlot.plot(kind='bar', figsize=(10, 8))\n",
        "plt.grid(which='major', linestyle='-', linewidth='0.5', color='green')\n",
        "plt.grid(which='minor', linestyle=':', linewidth='0.5', color='black')\n",
        "plt.show()\n"
      ],
      "execution_count": 0,
      "outputs": [
        {
          "output_type": "stream",
          "text": [
            "      Actual  Predicted\n",
            "1109       6   5.782930\n",
            "1032       5   5.036193\n",
            "1002       7   6.596989\n",
            "487        6   5.339126\n",
            "979        5   5.939529\n",
            "1054       6   5.007207\n",
            "542        5   5.396162\n",
            "853        6   6.052112\n",
            "1189       4   4.867603\n",
            "412        5   4.950676\n",
            "1099       5   5.285804\n",
            "475        5   5.412653\n",
            "799        6   5.705742\n",
            "553        5   5.129217\n",
            "1537       6   5.528852\n",
            "1586       6   6.380524\n",
            "805        7   6.810125\n",
            "1095       5   5.738033\n",
            "1547       5   5.976188\n",
            "18         4   5.086134\n",
            "1177       7   6.344799\n",
            "549        6   5.164010\n",
            "1341       6   5.642040\n",
            "1235       4   6.146290\n",
            "191        6   5.481780\n"
          ],
          "name": "stdout"
        },
        {
          "output_type": "display_data",
          "data": {
            "image/png": "[encoded data removed]",
            "text/plain": [
              "<Figure size 720x576 with 1 Axes>"
            ]
          },
          "metadata": {
            "tags": []
          }
        }
      ]
    },
    {
      "cell_type": "markdown",
      "metadata": {
        "id": "HBqjEtlRfuUY",
        "colab_type": "text"
      },
      "source": [
        "# Evaluating Performance\n",
        "\n",
        "Looks like we have some good results where our predictions are fairly close to the actual values!\n",
        "\n",
        "The final step will be to evaluate the performance of our model. To do so, we will be finding the values of the Mean Absolute Error (MAE), Mean Squared Error (MSE), and Root Mean Squared Error (RMSE).\n",
        "\n",
        "Mean Absolute Error (MAE): Measure of the average magnitude of errors in a set of predictions. Average over test sample of absolute differences between predicted and absolute values. \n",
        "\n",
        "![alt text](https://miro.medium.com/max/473/1*OVlFLnMwHDx08PHzqlBDag.gif)\n",
        "\n",
        "Root Mean Squared Error (RMSE): Quadratic scoring rule that also measures the average magnitude of the error. It is the square root of the average of squared differences between prediction and actual observation. \n",
        "\n",
        "![alt text](https://miro.medium.com/max/491/1*9hQVcasuwx5ddq_s3MFCyw.gif)\n",
        "\n",
        "\n",
        "Similarities between the two:\n",
        "Both used to average model prediction error and can range from 0 to infinity and are indifferent to the direction of errors. \n",
        "\n",
        "Differences between the two:\n",
        "For RMSE, since the errors are squared before averaged, it gives a relatively high weight to large errors. Meaning that using the RMSE is more useful when larger errors are more undesirable.\n",
        "\n"
      ]
    },
    {
      "cell_type": "code",
      "metadata": {
        "id": "A7TzI1sfjR_6",
        "colab_type": "code",
        "outputId": "651083dd-ca1b-423d-8d55-7aa4789e06ef",
        "colab": {
          "base_uri": "https://localhost:8080/",
          "height": 52
        }
      },
      "source": [
        "print('The Mean Absolute Error:', metrics.mean_absolute_error(y_test, y_pred))\n",
        "print('Root Mean Squared Error:', np.sqrt(metrics.mean_squared_error(y_test,y_pred)))"
      ],
      "execution_count": 0,
      "outputs": [
        {
          "output_type": "stream",
          "text": [
            "The Mean Absolute Error: 0.46963309286611105\n",
            "Root Mean Squared Error: 0.620057414938427\n"
          ],
          "name": "stdout"
        }
      ]
    },
    {
      "cell_type": "markdown",
      "metadata": {
        "id": "5GZVRjPUkfnb",
        "colab_type": "text"
      },
      "source": [
        "# Conclusion\n",
        "\n",
        "What do these results mean? \n",
        "Our model was not very accurate but can still make good predictions.\n",
        "The inaccuracies that we should take into account as to what factors could have contributed to this:\n",
        "\n",
        "**Data:** More data is needed in order to get the best possible predictions.\n",
        "**Assumption of relationship:** Assuming this data could best be fit through a linear relationship. \n",
        "**Features Chosen:** The features we chose from the data may not have had a high enough correlation to the values we were attempting to predict."
      ]
    }
  ]
}